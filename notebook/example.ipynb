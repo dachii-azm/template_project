{
 "cells": [
  {
   "cell_type": "code",
   "execution_count": null,
   "metadata": {},
   "outputs": [],
   "source": [
    "from torch.utils.data import DataLoader\n",
    "\n",
    "from prj.libs.preprocess import get_example_array\n",
    "from prj.configs.defaults import get_cfg\n",
    "from prj.utils.registry import registry\n",
    "from prj.utils.logging import logger\n",
    "import prj.utils.path as pt"
   ]
  },
  {
   "cell_type": "markdown",
   "metadata": {},
   "source": [
    "### Get Config Settings"
   ]
  },
  {
   "cell_type": "code",
   "execution_count": null,
   "metadata": {},
   "outputs": [],
   "source": [
    "logger.info(\"get default config settings\")\n",
    "logger.info(get_cfg())\n",
    "\n",
    "logger.info(\"get specific config settings\")\n",
    "logger.info(get_cfg(pt.get_config(\"demo.yaml\")))"
   ]
  },
  {
   "cell_type": "markdown",
   "metadata": {},
   "source": [
    "### Get Modules From registry"
   ]
  },
  {
   "cell_type": "code",
   "execution_count": null,
   "metadata": {},
   "outputs": [],
   "source": [
    "logger.info(registry.get_value_list())\n",
    "\n",
    "logger.info(\"get example dataloader\")\n",
    "logger.info(registry.get_value(key=\"dataloader\", name=\"example\"))"
   ]
  },
  {
   "cell_type": "markdown",
   "metadata": {},
   "source": [
    "### DEMO RUN"
   ]
  },
  {
   "cell_type": "code",
   "execution_count": null,
   "metadata": {},
   "outputs": [],
   "source": [
    "cfg = get_cfg(pt.get_config(\"demo.yaml\"))\n",
    "\n",
    "array = get_example_array()\n",
    "dataset = registry.get_value(key=\"dataloader\", name=\"example\")(cfg, array)\n",
    "dataloader = DataLoader(dataset, batch_size=cfg.run.batch_size, shuffle=True)\n",
    "\n",
    "model = registry.get_value(key=\"model\", name=\"example\")()\n",
    "model.eval()\n",
    "\n",
    "for batch in dataloader:\n",
    "    result = model(batch)\n",
    "logger.info(\"DONE\")\n"
   ]
  }
 ],
 "metadata": {
  "kernelspec": {
   "display_name": "prj",
   "language": "python",
   "name": "python3"
  },
  "language_info": {
   "codemirror_mode": {
    "name": "ipython",
    "version": 3
   },
   "file_extension": ".py",
   "mimetype": "text/x-python",
   "name": "python",
   "nbconvert_exporter": "python",
   "pygments_lexer": "ipython3",
   "version": "3.8.20"
  }
 },
 "nbformat": 4,
 "nbformat_minor": 2
}
